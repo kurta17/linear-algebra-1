{
 "cells": [
  {
   "cell_type": "code",
   "execution_count": 3,
   "metadata": {
    "deletable": false,
    "editable": false
   },
   "outputs": [
    {
     "name": "stdout",
     "output_type": "stream",
     "text": [
      "\u001b[33mWARNING: You are using pip version 21.2.4; however, version 24.0 is available.\n",
      "You should consider upgrading via the '/Library/Developer/CommandLineTools/usr/bin/python3 -m pip install --upgrade pip' command.\u001b[0m\n"
     ]
    }
   ],
   "source": [
    "%reload_ext autoreload\n",
    "%autoreload 2\n",
    "\n",
    "import sys\n",
    "import os\n",
    "from pathlib import Path\n",
    "\n",
    "path = Path('.').resolve()\n",
    "\n",
    "index = str(path).find('.laborantum')\n",
    "\n",
    "if index > 0:\n",
    "    path = str(path)[:index]\n",
    "\n",
    "os.chdir(path)\n",
    "\n",
    "!{sys.executable} -m pip -q install --user numpy json-tricks torch jupyter nbconvert"
   ]
  },
  {
   "cell_type": "code",
   "execution_count": 4,
   "metadata": {},
   "outputs": [],
   "source": [
    "import json_tricks\n",
    "\n",
    "path = Path('.laborantum/texts/Homeworks/1. Vectors/33. Exercise Vectors 3')"
   ]
  },
  {
   "cell_type": "code",
   "execution_count": 5,
   "metadata": {},
   "outputs": [],
   "source": [
    "debug_cases = json_tricks.load(str(path / 'testcases' / 'debug_cases.json'))\n",
    "public_cases = json_tricks.load(str(path / 'testcases' / 'public_cases.json'))"
   ]
  },
  {
   "cell_type": "code",
   "execution_count": 15,
   "metadata": {},
   "outputs": [],
   "source": [
    "import numpy as np\n",
    "import numpy.typing as npt\n",
    "from typing import Dict\n",
    "\n",
    "def vector_operations(x, y):\n",
    "    expression = x + y\n",
    "    dot_prod = np.dot(x, y)\n",
    "    length_a = np.linalg.norm(x)\n",
    "    length_b = np.linalg.norm(y)\n",
    "    angle = np.arccos(dot_prod / (length_a * length_b))\n",
    "    dir_a = x / length_a\n",
    "    dir_b = y / length_b\n",
    "    a_proj_b = (dot_prod / length_a) * dir_a \n",
    "    b_proj_a = (dot_prod / length_b) * dir_b\n",
    "    a_orth_b = x - a_proj_b\n",
    "    b_orth_a = y - b_proj_a\n",
    "\n",
    "    answer = {\n",
    "        'expression': expression,\n",
    "        'dot_prod': dot_prod,\n",
    "        'length_a': length_a,\n",
    "        'length_b': length_b,\n",
    "        'angle': angle,\n",
    "        'dir_a': dir_a,\n",
    "        'dir_b': dir_b,\n",
    "        'a_proj_b': a_proj_b,\n",
    "        'b_proj_a': b_proj_a,\n",
    "        'a_orth_b': a_orth_b,\n",
    "        'b_orth_a': b_orth_a\n",
    "    }\n",
    "\n",
    "    return answer\n"
   ]
  },
  {
   "cell_type": "code",
   "execution_count": 16,
   "metadata": {},
   "outputs": [
    {
     "name": "stdout",
     "output_type": "stream",
     "text": [
      "0.003553152084350586 <- Elapsed time\n"
     ]
    }
   ],
   "source": [
    "import time\n",
    "\n",
    "start = time.time()\n",
    "\n",
    "debug_result = [vector_operations(**x) for x in debug_cases]\n",
    "answer = [vector_operations(**x) for x in public_cases]\n",
    "\n",
    "print(time.time() - start, '<- Elapsed time')"
   ]
  }
 ],
 "metadata": {
  "kernelspec": {
   "display_name": "Python 3",
   "language": "python",
   "name": "python3"
  },
  "language_info": {
   "codemirror_mode": {
    "name": "ipython",
    "version": 3
   },
   "file_extension": ".py",
   "mimetype": "text/x-python",
   "name": "python",
   "nbconvert_exporter": "python",
   "pygments_lexer": "ipython3",
   "version": "3.9.6"
  }
 },
 "nbformat": 4,
 "nbformat_minor": 2
}
